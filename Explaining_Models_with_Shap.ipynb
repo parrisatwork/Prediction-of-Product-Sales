{
  "nbformat": 4,
  "nbformat_minor": 0,
  "metadata": {
    "colab": {
      "provenance": [],
      "mount_file_id": "1NO8cLIOE-_5JJJK5xfriCThHTQDrJc3d",
      "authorship_tag": "ABX9TyPSgAa/zl6T3aBjNx7reTFJ",
      "include_colab_link": true
    },
    "kernelspec": {
      "name": "python3",
      "display_name": "Python 3"
    },
    "language_info": {
      "name": "python"
    }
  },
  "cells": [
    {
      "cell_type": "markdown",
      "metadata": {
        "id": "view-in-github",
        "colab_type": "text"
      },
      "source": [
        "<a href=\"https://colab.research.google.com/github/parrisatwork/Prediction-of-Product-Sales/blob/main/Explaining_Models_with_Shap.ipynb\" target=\"_parent\"><img src=\"https://colab.research.google.com/assets/colab-badge.svg\" alt=\"Open In Colab\"/></a>"
      ]
    },
    {
      "cell_type": "markdown",
      "source": [
        "# Project 1 Revisited - Part 2: Explanations"
      ],
      "metadata": {
        "id": "poczVPIEIPqi"
      }
    },
    {
      "cell_type": "markdown",
      "source": [
        "### Import Libraries"
      ],
      "metadata": {
        "id": "ZDlsygQgIYhb"
      }
    },
    {
      "cell_type": "code",
      "source": [
        "import pandas as pd\n",
        "import numpy as np\n",
        "import matplotlib as mpl\n",
        "import matplotlib.pyplot as plt\n",
        "import seaborn as sns\n",
        "## Customization Options\n",
        "pd.set_option(\"display.max_columns\",100)\n",
        "plt.style.use(['fivethirtyeight','seaborn-talk'])\n",
        "mpl.rcParams['figure.facecolor']='white'\n",
        "## additional required imports\n",
        "from sklearn.model_selection import train_test_split\n",
        "from sklearn.preprocessing import OneHotEncoder, StandardScaler\n",
        "from sklearn.impute import SimpleImputer\n",
        "from sklearn.compose import make_column_transformer, make_column_selector\n",
        "from sklearn.pipeline import make_pipeline\n",
        "from sklearn import metrics\n",
        "## fixing random for lesson generation\n",
        "SEED = 321\n",
        "np.random.seed(SEED)"
      ],
      "metadata": {
        "colab": {
          "base_uri": "https://localhost:8080/"
        },
        "id": "b6Sx1j9BIagC",
        "outputId": "6a102b92-e8a1-4ba5-a433-c8c2df0f4a3c"
      },
      "execution_count": 1,
      "outputs": [
        {
          "output_type": "stream",
          "name": "stderr",
          "text": [
            "<ipython-input-1-3ca4491f19d2>:8: MatplotlibDeprecationWarning: The seaborn styles shipped by Matplotlib are deprecated since 3.6, as they no longer correspond to the styles shipped by seaborn. However, they will remain available as 'seaborn-v0_8-<style>'. Alternatively, directly use the seaborn API instead.\n",
            "  plt.style.use(['fivethirtyeight','seaborn-talk'])\n"
          ]
        }
      ]
    },
    {
      "cell_type": "markdown",
      "source": [
        "## Load Data"
      ],
      "metadata": {
        "id": "LgH-kSmHIfpQ"
      }
    },
    {
      "cell_type": "code",
      "source": [
        "import joblib\n",
        "loaded_joblib = joblib.load('/content/drive/MyDrive/Data/best_models.joblib')\n",
        "loaded_joblib.keys()"
      ],
      "metadata": {
        "colab": {
          "base_uri": "https://localhost:8080/"
        },
        "id": "y1dywX2oInsF",
        "outputId": "6af5cdbe-3f05-48cc-ea4a-4b213f454a8f"
      },
      "execution_count": 2,
      "outputs": [
        {
          "output_type": "stream",
          "name": "stderr",
          "text": [
            "/usr/local/lib/python3.10/dist-packages/sklearn/base.py:318: UserWarning: Trying to unpickle estimator SimpleImputer from version 1.1.3 when using version 1.2.2. This might lead to breaking code or invalid results. Use at your own risk. For more info please refer to:\n",
            "https://scikit-learn.org/stable/model_persistence.html#security-maintainability-limitations\n",
            "  warnings.warn(\n",
            "/usr/local/lib/python3.10/dist-packages/sklearn/base.py:318: UserWarning: Trying to unpickle estimator OneHotEncoder from version 1.1.3 when using version 1.2.2. This might lead to breaking code or invalid results. Use at your own risk. For more info please refer to:\n",
            "https://scikit-learn.org/stable/model_persistence.html#security-maintainability-limitations\n",
            "  warnings.warn(\n",
            "/usr/local/lib/python3.10/dist-packages/sklearn/base.py:318: UserWarning: Trying to unpickle estimator Pipeline from version 1.1.3 when using version 1.2.2. This might lead to breaking code or invalid results. Use at your own risk. For more info please refer to:\n",
            "https://scikit-learn.org/stable/model_persistence.html#security-maintainability-limitations\n",
            "  warnings.warn(\n",
            "/usr/local/lib/python3.10/dist-packages/sklearn/base.py:318: UserWarning: Trying to unpickle estimator ColumnTransformer from version 1.1.3 when using version 1.2.2. This might lead to breaking code or invalid results. Use at your own risk. For more info please refer to:\n",
            "https://scikit-learn.org/stable/model_persistence.html#security-maintainability-limitations\n",
            "  warnings.warn(\n",
            "/usr/local/lib/python3.10/dist-packages/sklearn/base.py:318: UserWarning: Trying to unpickle estimator LinearRegression from version 1.1.3 when using version 1.2.2. This might lead to breaking code or invalid results. Use at your own risk. For more info please refer to:\n",
            "https://scikit-learn.org/stable/model_persistence.html#security-maintainability-limitations\n",
            "  warnings.warn(\n",
            "/usr/local/lib/python3.10/dist-packages/sklearn/base.py:318: UserWarning: Trying to unpickle estimator DecisionTreeRegressor from version 1.1.3 when using version 1.2.2. This might lead to breaking code or invalid results. Use at your own risk. For more info please refer to:\n",
            "https://scikit-learn.org/stable/model_persistence.html#security-maintainability-limitations\n",
            "  warnings.warn(\n",
            "/usr/local/lib/python3.10/dist-packages/sklearn/base.py:318: UserWarning: Trying to unpickle estimator RandomForestRegressor from version 1.1.3 when using version 1.2.2. This might lead to breaking code or invalid results. Use at your own risk. For more info please refer to:\n",
            "https://scikit-learn.org/stable/model_persistence.html#security-maintainability-limitations\n",
            "  warnings.warn(\n"
          ]
        },
        {
          "output_type": "execute_result",
          "data": {
            "text/plain": [
              "dict_keys(['X_train_df', 'X_train_rf', 'y_train', 'X_test_df', 'X_test_rf', 'y_test', 'preprocessor', 'preprocessor_rf', 'LinearRegression', 'RandomForest'])"
            ]
          },
          "metadata": {},
          "execution_count": 2
        }
      ]
    },
    {
      "cell_type": "code",
      "source": [
        "X_train = loaded_joblib['X_train_rf']\n",
        "y_train = loaded_joblib['y_train']\n",
        "X_test = loaded_joblib['X_test_rf']\n",
        "y_test = loaded_joblib['y_test']\n",
        "preprocessor = loaded_joblib['preprocessor_rf']\n",
        "rf_reg = loaded_joblib['RandomForest']"
      ],
      "metadata": {
        "id": "WpzZ4H2hIb8Z"
      },
      "execution_count": 3,
      "outputs": []
    },
    {
      "cell_type": "code",
      "source": [
        "X_train"
      ],
      "metadata": {
        "colab": {
          "base_uri": "https://localhost:8080/",
          "height": 505
        },
        "id": "HILMBnkDIzmc",
        "outputId": "9507dd35-85b3-43d6-e338-497c969d5bc6"
      },
      "execution_count": 4,
      "outputs": [
        {
          "output_type": "execute_result",
          "data": {
            "text/plain": [
              "      Item_Fat_Content_Regular  Item_Type_Baking Goods  Item_Type_Breads  \\\n",
              "8269                       1.0                     1.0               0.0   \n",
              "7604                       0.0                     0.0               0.0   \n",
              "2762                       0.0                     0.0               0.0   \n",
              "6464                       0.0                     0.0               0.0   \n",
              "4707                       1.0                     0.0               0.0   \n",
              "...                        ...                     ...               ...   \n",
              "3482                       0.0                     0.0               0.0   \n",
              "8360                       0.0                     0.0               0.0   \n",
              "5929                       0.0                     0.0               0.0   \n",
              "4220                       1.0                     0.0               1.0   \n",
              "6682                       0.0                     0.0               0.0   \n",
              "\n",
              "      Item_Type_Breakfast  Item_Type_Canned  Item_Type_Dairy  \\\n",
              "8269                  0.0               0.0              0.0   \n",
              "7604                  0.0               0.0              0.0   \n",
              "2762                  0.0               0.0              0.0   \n",
              "6464                  0.0               0.0              0.0   \n",
              "4707                  0.0               0.0              0.0   \n",
              "...                   ...               ...              ...   \n",
              "3482                  0.0               0.0              0.0   \n",
              "8360                  0.0               0.0              0.0   \n",
              "5929                  0.0               0.0              0.0   \n",
              "4220                  0.0               0.0              0.0   \n",
              "6682                  0.0               0.0              0.0   \n",
              "\n",
              "      Item_Type_Frozen Foods  Item_Type_Fruits and Vegetables  \\\n",
              "8269                     0.0                              0.0   \n",
              "7604                     0.0                              0.0   \n",
              "2762                     0.0                              0.0   \n",
              "6464                     0.0                              0.0   \n",
              "4707                     0.0                              1.0   \n",
              "...                      ...                              ...   \n",
              "3482                     0.0                              1.0   \n",
              "8360                     0.0                              0.0   \n",
              "5929                     0.0                              0.0   \n",
              "4220                     0.0                              0.0   \n",
              "6682                     0.0                              0.0   \n",
              "\n",
              "      Item_Type_Hard Drinks  Item_Type_Health and Hygiene  \\\n",
              "8269                    0.0                           0.0   \n",
              "7604                    0.0                           0.0   \n",
              "2762                    0.0                           0.0   \n",
              "6464                    0.0                           0.0   \n",
              "4707                    0.0                           0.0   \n",
              "...                     ...                           ...   \n",
              "3482                    0.0                           0.0   \n",
              "8360                    0.0                           0.0   \n",
              "5929                    0.0                           0.0   \n",
              "4220                    0.0                           0.0   \n",
              "6682                    0.0                           0.0   \n",
              "\n",
              "      Item_Type_Household  Item_Type_Meat  Item_Type_Others  \\\n",
              "8269                  0.0             0.0               0.0   \n",
              "7604                  0.0             0.0               0.0   \n",
              "2762                  1.0             0.0               0.0   \n",
              "6464                  1.0             0.0               0.0   \n",
              "4707                  0.0             0.0               0.0   \n",
              "...                   ...             ...               ...   \n",
              "3482                  0.0             0.0               0.0   \n",
              "8360                  0.0             0.0               0.0   \n",
              "5929                  1.0             0.0               0.0   \n",
              "4220                  0.0             0.0               0.0   \n",
              "6682                  0.0             0.0               0.0   \n",
              "\n",
              "      Item_Type_Seafood  Item_Type_Snack Foods  Item_Type_Soft Drinks  \\\n",
              "8269                0.0                    0.0                    0.0   \n",
              "7604                0.0                    0.0                    1.0   \n",
              "2762                0.0                    0.0                    0.0   \n",
              "6464                0.0                    0.0                    0.0   \n",
              "4707                0.0                    0.0                    0.0   \n",
              "...                 ...                    ...                    ...   \n",
              "3482                0.0                    0.0                    0.0   \n",
              "8360                0.0                    0.0                    0.0   \n",
              "5929                0.0                    0.0                    0.0   \n",
              "4220                0.0                    0.0                    0.0   \n",
              "6682                0.0                    0.0                    1.0   \n",
              "\n",
              "      Item_Type_Starchy Foods  Outlet_Identifier_OUT010  \\\n",
              "8269                      0.0                       1.0   \n",
              "7604                      0.0                       0.0   \n",
              "2762                      0.0                       0.0   \n",
              "6464                      0.0                       0.0   \n",
              "4707                      0.0                       0.0   \n",
              "...                       ...                       ...   \n",
              "3482                      0.0                       0.0   \n",
              "8360                      1.0                       0.0   \n",
              "5929                      0.0                       0.0   \n",
              "4220                      0.0                       0.0   \n",
              "6682                      0.0                       0.0   \n",
              "\n",
              "      Outlet_Identifier_OUT013  Outlet_Identifier_OUT017  \\\n",
              "8269                       0.0                       0.0   \n",
              "7604                       0.0                       0.0   \n",
              "2762                       0.0                       0.0   \n",
              "6464                       0.0                       0.0   \n",
              "4707                       0.0                       0.0   \n",
              "...                        ...                       ...   \n",
              "3482                       0.0                       0.0   \n",
              "8360                       0.0                       0.0   \n",
              "5929                       0.0                       0.0   \n",
              "4220                       0.0                       1.0   \n",
              "6682                       0.0                       0.0   \n",
              "\n",
              "      Outlet_Identifier_OUT018  Outlet_Identifier_OUT019  \\\n",
              "8269                       0.0                       0.0   \n",
              "7604                       1.0                       0.0   \n",
              "2762                       0.0                       0.0   \n",
              "6464                       0.0                       0.0   \n",
              "4707                       0.0                       0.0   \n",
              "...                        ...                       ...   \n",
              "3482                       0.0                       0.0   \n",
              "8360                       0.0                       0.0   \n",
              "5929                       0.0                       0.0   \n",
              "4220                       0.0                       0.0   \n",
              "6682                       1.0                       0.0   \n",
              "\n",
              "      Outlet_Identifier_OUT027  Outlet_Identifier_OUT035  \\\n",
              "8269                       0.0                       0.0   \n",
              "7604                       0.0                       0.0   \n",
              "2762                       0.0                       1.0   \n",
              "6464                       0.0                       1.0   \n",
              "4707                       0.0                       1.0   \n",
              "...                        ...                       ...   \n",
              "3482                       1.0                       0.0   \n",
              "8360                       0.0                       0.0   \n",
              "5929                       0.0                       0.0   \n",
              "4220                       0.0                       0.0   \n",
              "6682                       0.0                       0.0   \n",
              "\n",
              "      Outlet_Identifier_OUT045  Outlet_Identifier_OUT046  \\\n",
              "8269                       0.0                       0.0   \n",
              "7604                       0.0                       0.0   \n",
              "2762                       0.0                       0.0   \n",
              "6464                       0.0                       0.0   \n",
              "4707                       0.0                       0.0   \n",
              "...                        ...                       ...   \n",
              "3482                       0.0                       0.0   \n",
              "8360                       0.0                       0.0   \n",
              "5929                       1.0                       0.0   \n",
              "4220                       0.0                       0.0   \n",
              "6682                       0.0                       0.0   \n",
              "\n",
              "      Outlet_Identifier_OUT049  Outlet_Size_High  Outlet_Size_MISSING  \\\n",
              "8269                       0.0               0.0                  1.0   \n",
              "7604                       0.0               0.0                  0.0   \n",
              "2762                       0.0               0.0                  0.0   \n",
              "6464                       0.0               0.0                  0.0   \n",
              "4707                       0.0               0.0                  0.0   \n",
              "...                        ...               ...                  ...   \n",
              "3482                       0.0               0.0                  0.0   \n",
              "8360                       1.0               0.0                  0.0   \n",
              "5929                       0.0               0.0                  1.0   \n",
              "4220                       0.0               0.0                  1.0   \n",
              "6682                       0.0               0.0                  0.0   \n",
              "\n",
              "      Outlet_Size_Medium  Outlet_Size_Small  Outlet_Location_Type_Tier 1  \\\n",
              "8269                 0.0                0.0                          0.0   \n",
              "7604                 1.0                0.0                          0.0   \n",
              "2762                 0.0                1.0                          0.0   \n",
              "6464                 0.0                1.0                          0.0   \n",
              "4707                 0.0                1.0                          0.0   \n",
              "...                  ...                ...                          ...   \n",
              "3482                 1.0                0.0                          0.0   \n",
              "8360                 1.0                0.0                          1.0   \n",
              "5929                 0.0                0.0                          0.0   \n",
              "4220                 0.0                0.0                          0.0   \n",
              "6682                 1.0                0.0                          0.0   \n",
              "\n",
              "      Outlet_Location_Type_Tier 2  Outlet_Location_Type_Tier 3  \\\n",
              "8269                          0.0                          1.0   \n",
              "7604                          0.0                          1.0   \n",
              "2762                          1.0                          0.0   \n",
              "6464                          1.0                          0.0   \n",
              "4707                          1.0                          0.0   \n",
              "...                           ...                          ...   \n",
              "3482                          0.0                          1.0   \n",
              "8360                          0.0                          0.0   \n",
              "5929                          1.0                          0.0   \n",
              "4220                          1.0                          0.0   \n",
              "6682                          0.0                          1.0   \n",
              "\n",
              "      Outlet_Type_Grocery Store  Outlet_Type_Supermarket Type1  \\\n",
              "8269                        1.0                            0.0   \n",
              "7604                        0.0                            0.0   \n",
              "2762                        0.0                            1.0   \n",
              "6464                        0.0                            1.0   \n",
              "4707                        0.0                            1.0   \n",
              "...                         ...                            ...   \n",
              "3482                        0.0                            0.0   \n",
              "8360                        0.0                            1.0   \n",
              "5929                        0.0                            1.0   \n",
              "4220                        0.0                            1.0   \n",
              "6682                        0.0                            0.0   \n",
              "\n",
              "      Outlet_Type_Supermarket Type2  Outlet_Type_Supermarket Type3  \\\n",
              "8269                            0.0                            0.0   \n",
              "7604                            1.0                            0.0   \n",
              "2762                            0.0                            0.0   \n",
              "6464                            0.0                            0.0   \n",
              "4707                            0.0                            0.0   \n",
              "...                             ...                            ...   \n",
              "3482                            0.0                            1.0   \n",
              "8360                            0.0                            0.0   \n",
              "5929                            0.0                            0.0   \n",
              "4220                            0.0                            0.0   \n",
              "6682                            1.0                            0.0   \n",
              "\n",
              "      Item_Weight  Item_Visibility  Item_MRP  Outlet_Establishment_Year  \n",
              "8269        7.220         0.064142   61.2510                     1998.0  \n",
              "7604        6.135         0.079294  111.2860                     2009.0  \n",
              "2762       12.150         0.028593  151.0708                     2004.0  \n",
              "6464        5.945         0.093009  127.8652                     2004.0  \n",
              "4707       18.200         0.066285  247.2092                     2004.0  \n",
              "...           ...              ...       ...                        ...  \n",
              "3482       12.550         0.012216  162.7894                     1985.0  \n",
              "8360       11.500         0.014884  174.5080                     1999.0  \n",
              "5929        5.110         0.034945  161.1210                     2002.0  \n",
              "4220        6.550         0.034800  157.5288                     2007.0  \n",
              "6682        7.810         0.067730  242.6486                     2009.0  \n",
              "\n",
              "[6392 rows x 42 columns]"
            ],
            "text/html": [
              "\n",
              "\n",
              "  <div id=\"df-8eef3df6-eaf3-480d-a2ce-b712db42dd2d\">\n",
              "    <div class=\"colab-df-container\">\n",
              "      <div>\n",
              "<style scoped>\n",
              "    .dataframe tbody tr th:only-of-type {\n",
              "        vertical-align: middle;\n",
              "    }\n",
              "\n",
              "    .dataframe tbody tr th {\n",
              "        vertical-align: top;\n",
              "    }\n",
              "\n",
              "    .dataframe thead th {\n",
              "        text-align: right;\n",
              "    }\n",
              "</style>\n",
              "<table border=\"1\" class=\"dataframe\">\n",
              "  <thead>\n",
              "    <tr style=\"text-align: right;\">\n",
              "      <th></th>\n",
              "      <th>Item_Fat_Content_Regular</th>\n",
              "      <th>Item_Type_Baking Goods</th>\n",
              "      <th>Item_Type_Breads</th>\n",
              "      <th>Item_Type_Breakfast</th>\n",
              "      <th>Item_Type_Canned</th>\n",
              "      <th>Item_Type_Dairy</th>\n",
              "      <th>Item_Type_Frozen Foods</th>\n",
              "      <th>Item_Type_Fruits and Vegetables</th>\n",
              "      <th>Item_Type_Hard Drinks</th>\n",
              "      <th>Item_Type_Health and Hygiene</th>\n",
              "      <th>Item_Type_Household</th>\n",
              "      <th>Item_Type_Meat</th>\n",
              "      <th>Item_Type_Others</th>\n",
              "      <th>Item_Type_Seafood</th>\n",
              "      <th>Item_Type_Snack Foods</th>\n",
              "      <th>Item_Type_Soft Drinks</th>\n",
              "      <th>Item_Type_Starchy Foods</th>\n",
              "      <th>Outlet_Identifier_OUT010</th>\n",
              "      <th>Outlet_Identifier_OUT013</th>\n",
              "      <th>Outlet_Identifier_OUT017</th>\n",
              "      <th>Outlet_Identifier_OUT018</th>\n",
              "      <th>Outlet_Identifier_OUT019</th>\n",
              "      <th>Outlet_Identifier_OUT027</th>\n",
              "      <th>Outlet_Identifier_OUT035</th>\n",
              "      <th>Outlet_Identifier_OUT045</th>\n",
              "      <th>Outlet_Identifier_OUT046</th>\n",
              "      <th>Outlet_Identifier_OUT049</th>\n",
              "      <th>Outlet_Size_High</th>\n",
              "      <th>Outlet_Size_MISSING</th>\n",
              "      <th>Outlet_Size_Medium</th>\n",
              "      <th>Outlet_Size_Small</th>\n",
              "      <th>Outlet_Location_Type_Tier 1</th>\n",
              "      <th>Outlet_Location_Type_Tier 2</th>\n",
              "      <th>Outlet_Location_Type_Tier 3</th>\n",
              "      <th>Outlet_Type_Grocery Store</th>\n",
              "      <th>Outlet_Type_Supermarket Type1</th>\n",
              "      <th>Outlet_Type_Supermarket Type2</th>\n",
              "      <th>Outlet_Type_Supermarket Type3</th>\n",
              "      <th>Item_Weight</th>\n",
              "      <th>Item_Visibility</th>\n",
              "      <th>Item_MRP</th>\n",
              "      <th>Outlet_Establishment_Year</th>\n",
              "    </tr>\n",
              "  </thead>\n",
              "  <tbody>\n",
              "    <tr>\n",
              "      <th>8269</th>\n",
              "      <td>1.0</td>\n",
              "      <td>1.0</td>\n",
              "      <td>0.0</td>\n",
              "      <td>0.0</td>\n",
              "      <td>0.0</td>\n",
              "      <td>0.0</td>\n",
              "      <td>0.0</td>\n",
              "      <td>0.0</td>\n",
              "      <td>0.0</td>\n",
              "      <td>0.0</td>\n",
              "      <td>0.0</td>\n",
              "      <td>0.0</td>\n",
              "      <td>0.0</td>\n",
              "      <td>0.0</td>\n",
              "      <td>0.0</td>\n",
              "      <td>0.0</td>\n",
              "      <td>0.0</td>\n",
              "      <td>1.0</td>\n",
              "      <td>0.0</td>\n",
              "      <td>0.0</td>\n",
              "      <td>0.0</td>\n",
              "      <td>0.0</td>\n",
              "      <td>0.0</td>\n",
              "      <td>0.0</td>\n",
              "      <td>0.0</td>\n",
              "      <td>0.0</td>\n",
              "      <td>0.0</td>\n",
              "      <td>0.0</td>\n",
              "      <td>1.0</td>\n",
              "      <td>0.0</td>\n",
              "      <td>0.0</td>\n",
              "      <td>0.0</td>\n",
              "      <td>0.0</td>\n",
              "      <td>1.0</td>\n",
              "      <td>1.0</td>\n",
              "      <td>0.0</td>\n",
              "      <td>0.0</td>\n",
              "      <td>0.0</td>\n",
              "      <td>7.220</td>\n",
              "      <td>0.064142</td>\n",
              "      <td>61.2510</td>\n",
              "      <td>1998.0</td>\n",
              "    </tr>\n",
              "    <tr>\n",
              "      <th>7604</th>\n",
              "      <td>0.0</td>\n",
              "      <td>0.0</td>\n",
              "      <td>0.0</td>\n",
              "      <td>0.0</td>\n",
              "      <td>0.0</td>\n",
              "      <td>0.0</td>\n",
              "      <td>0.0</td>\n",
              "      <td>0.0</td>\n",
              "      <td>0.0</td>\n",
              "      <td>0.0</td>\n",
              "      <td>0.0</td>\n",
              "      <td>0.0</td>\n",
              "      <td>0.0</td>\n",
              "      <td>0.0</td>\n",
              "      <td>0.0</td>\n",
              "      <td>1.0</td>\n",
              "      <td>0.0</td>\n",
              "      <td>0.0</td>\n",
              "      <td>0.0</td>\n",
              "      <td>0.0</td>\n",
              "      <td>1.0</td>\n",
              "      <td>0.0</td>\n",
              "      <td>0.0</td>\n",
              "      <td>0.0</td>\n",
              "      <td>0.0</td>\n",
              "      <td>0.0</td>\n",
              "      <td>0.0</td>\n",
              "      <td>0.0</td>\n",
              "      <td>0.0</td>\n",
              "      <td>1.0</td>\n",
              "      <td>0.0</td>\n",
              "      <td>0.0</td>\n",
              "      <td>0.0</td>\n",
              "      <td>1.0</td>\n",
              "      <td>0.0</td>\n",
              "      <td>0.0</td>\n",
              "      <td>1.0</td>\n",
              "      <td>0.0</td>\n",
              "      <td>6.135</td>\n",
              "      <td>0.079294</td>\n",
              "      <td>111.2860</td>\n",
              "      <td>2009.0</td>\n",
              "    </tr>\n",
              "    <tr>\n",
              "      <th>2762</th>\n",
              "      <td>0.0</td>\n",
              "      <td>0.0</td>\n",
              "      <td>0.0</td>\n",
              "      <td>0.0</td>\n",
              "      <td>0.0</td>\n",
              "      <td>0.0</td>\n",
              "      <td>0.0</td>\n",
              "      <td>0.0</td>\n",
              "      <td>0.0</td>\n",
              "      <td>0.0</td>\n",
              "      <td>1.0</td>\n",
              "      <td>0.0</td>\n",
              "      <td>0.0</td>\n",
              "      <td>0.0</td>\n",
              "      <td>0.0</td>\n",
              "      <td>0.0</td>\n",
              "      <td>0.0</td>\n",
              "      <td>0.0</td>\n",
              "      <td>0.0</td>\n",
              "      <td>0.0</td>\n",
              "      <td>0.0</td>\n",
              "      <td>0.0</td>\n",
              "      <td>0.0</td>\n",
              "      <td>1.0</td>\n",
              "      <td>0.0</td>\n",
              "      <td>0.0</td>\n",
              "      <td>0.0</td>\n",
              "      <td>0.0</td>\n",
              "      <td>0.0</td>\n",
              "      <td>0.0</td>\n",
              "      <td>1.0</td>\n",
              "      <td>0.0</td>\n",
              "      <td>1.0</td>\n",
              "      <td>0.0</td>\n",
              "      <td>0.0</td>\n",
              "      <td>1.0</td>\n",
              "      <td>0.0</td>\n",
              "      <td>0.0</td>\n",
              "      <td>12.150</td>\n",
              "      <td>0.028593</td>\n",
              "      <td>151.0708</td>\n",
              "      <td>2004.0</td>\n",
              "    </tr>\n",
              "    <tr>\n",
              "      <th>6464</th>\n",
              "      <td>0.0</td>\n",
              "      <td>0.0</td>\n",
              "      <td>0.0</td>\n",
              "      <td>0.0</td>\n",
              "      <td>0.0</td>\n",
              "      <td>0.0</td>\n",
              "      <td>0.0</td>\n",
              "      <td>0.0</td>\n",
              "      <td>0.0</td>\n",
              "      <td>0.0</td>\n",
              "      <td>1.0</td>\n",
              "      <td>0.0</td>\n",
              "      <td>0.0</td>\n",
              "      <td>0.0</td>\n",
              "      <td>0.0</td>\n",
              "      <td>0.0</td>\n",
              "      <td>0.0</td>\n",
              "      <td>0.0</td>\n",
              "      <td>0.0</td>\n",
              "      <td>0.0</td>\n",
              "      <td>0.0</td>\n",
              "      <td>0.0</td>\n",
              "      <td>0.0</td>\n",
              "      <td>1.0</td>\n",
              "      <td>0.0</td>\n",
              "      <td>0.0</td>\n",
              "      <td>0.0</td>\n",
              "      <td>0.0</td>\n",
              "      <td>0.0</td>\n",
              "      <td>0.0</td>\n",
              "      <td>1.0</td>\n",
              "      <td>0.0</td>\n",
              "      <td>1.0</td>\n",
              "      <td>0.0</td>\n",
              "      <td>0.0</td>\n",
              "      <td>1.0</td>\n",
              "      <td>0.0</td>\n",
              "      <td>0.0</td>\n",
              "      <td>5.945</td>\n",
              "      <td>0.093009</td>\n",
              "      <td>127.8652</td>\n",
              "      <td>2004.0</td>\n",
              "    </tr>\n",
              "    <tr>\n",
              "      <th>4707</th>\n",
              "      <td>1.0</td>\n",
              "      <td>0.0</td>\n",
              "      <td>0.0</td>\n",
              "      <td>0.0</td>\n",
              "      <td>0.0</td>\n",
              "      <td>0.0</td>\n",
              "      <td>0.0</td>\n",
              "      <td>1.0</td>\n",
              "      <td>0.0</td>\n",
              "      <td>0.0</td>\n",
              "      <td>0.0</td>\n",
              "      <td>0.0</td>\n",
              "      <td>0.0</td>\n",
              "      <td>0.0</td>\n",
              "      <td>0.0</td>\n",
              "      <td>0.0</td>\n",
              "      <td>0.0</td>\n",
              "      <td>0.0</td>\n",
              "      <td>0.0</td>\n",
              "      <td>0.0</td>\n",
              "      <td>0.0</td>\n",
              "      <td>0.0</td>\n",
              "      <td>0.0</td>\n",
              "      <td>1.0</td>\n",
              "      <td>0.0</td>\n",
              "      <td>0.0</td>\n",
              "      <td>0.0</td>\n",
              "      <td>0.0</td>\n",
              "      <td>0.0</td>\n",
              "      <td>0.0</td>\n",
              "      <td>1.0</td>\n",
              "      <td>0.0</td>\n",
              "      <td>1.0</td>\n",
              "      <td>0.0</td>\n",
              "      <td>0.0</td>\n",
              "      <td>1.0</td>\n",
              "      <td>0.0</td>\n",
              "      <td>0.0</td>\n",
              "      <td>18.200</td>\n",
              "      <td>0.066285</td>\n",
              "      <td>247.2092</td>\n",
              "      <td>2004.0</td>\n",
              "    </tr>\n",
              "    <tr>\n",
              "      <th>...</th>\n",
              "      <td>...</td>\n",
              "      <td>...</td>\n",
              "      <td>...</td>\n",
              "      <td>...</td>\n",
              "      <td>...</td>\n",
              "      <td>...</td>\n",
              "      <td>...</td>\n",
              "      <td>...</td>\n",
              "      <td>...</td>\n",
              "      <td>...</td>\n",
              "      <td>...</td>\n",
              "      <td>...</td>\n",
              "      <td>...</td>\n",
              "      <td>...</td>\n",
              "      <td>...</td>\n",
              "      <td>...</td>\n",
              "      <td>...</td>\n",
              "      <td>...</td>\n",
              "      <td>...</td>\n",
              "      <td>...</td>\n",
              "      <td>...</td>\n",
              "      <td>...</td>\n",
              "      <td>...</td>\n",
              "      <td>...</td>\n",
              "      <td>...</td>\n",
              "      <td>...</td>\n",
              "      <td>...</td>\n",
              "      <td>...</td>\n",
              "      <td>...</td>\n",
              "      <td>...</td>\n",
              "      <td>...</td>\n",
              "      <td>...</td>\n",
              "      <td>...</td>\n",
              "      <td>...</td>\n",
              "      <td>...</td>\n",
              "      <td>...</td>\n",
              "      <td>...</td>\n",
              "      <td>...</td>\n",
              "      <td>...</td>\n",
              "      <td>...</td>\n",
              "      <td>...</td>\n",
              "      <td>...</td>\n",
              "    </tr>\n",
              "    <tr>\n",
              "      <th>3482</th>\n",
              "      <td>0.0</td>\n",
              "      <td>0.0</td>\n",
              "      <td>0.0</td>\n",
              "      <td>0.0</td>\n",
              "      <td>0.0</td>\n",
              "      <td>0.0</td>\n",
              "      <td>0.0</td>\n",
              "      <td>1.0</td>\n",
              "      <td>0.0</td>\n",
              "      <td>0.0</td>\n",
              "      <td>0.0</td>\n",
              "      <td>0.0</td>\n",
              "      <td>0.0</td>\n",
              "      <td>0.0</td>\n",
              "      <td>0.0</td>\n",
              "      <td>0.0</td>\n",
              "      <td>0.0</td>\n",
              "      <td>0.0</td>\n",
              "      <td>0.0</td>\n",
              "      <td>0.0</td>\n",
              "      <td>0.0</td>\n",
              "      <td>0.0</td>\n",
              "      <td>1.0</td>\n",
              "      <td>0.0</td>\n",
              "      <td>0.0</td>\n",
              "      <td>0.0</td>\n",
              "      <td>0.0</td>\n",
              "      <td>0.0</td>\n",
              "      <td>0.0</td>\n",
              "      <td>1.0</td>\n",
              "      <td>0.0</td>\n",
              "      <td>0.0</td>\n",
              "      <td>0.0</td>\n",
              "      <td>1.0</td>\n",
              "      <td>0.0</td>\n",
              "      <td>0.0</td>\n",
              "      <td>0.0</td>\n",
              "      <td>1.0</td>\n",
              "      <td>12.550</td>\n",
              "      <td>0.012216</td>\n",
              "      <td>162.7894</td>\n",
              "      <td>1985.0</td>\n",
              "    </tr>\n",
              "    <tr>\n",
              "      <th>8360</th>\n",
              "      <td>0.0</td>\n",
              "      <td>0.0</td>\n",
              "      <td>0.0</td>\n",
              "      <td>0.0</td>\n",
              "      <td>0.0</td>\n",
              "      <td>0.0</td>\n",
              "      <td>0.0</td>\n",
              "      <td>0.0</td>\n",
              "      <td>0.0</td>\n",
              "      <td>0.0</td>\n",
              "      <td>0.0</td>\n",
              "      <td>0.0</td>\n",
              "      <td>0.0</td>\n",
              "      <td>0.0</td>\n",
              "      <td>0.0</td>\n",
              "      <td>0.0</td>\n",
              "      <td>1.0</td>\n",
              "      <td>0.0</td>\n",
              "      <td>0.0</td>\n",
              "      <td>0.0</td>\n",
              "      <td>0.0</td>\n",
              "      <td>0.0</td>\n",
              "      <td>0.0</td>\n",
              "      <td>0.0</td>\n",
              "      <td>0.0</td>\n",
              "      <td>0.0</td>\n",
              "      <td>1.0</td>\n",
              "      <td>0.0</td>\n",
              "      <td>0.0</td>\n",
              "      <td>1.0</td>\n",
              "      <td>0.0</td>\n",
              "      <td>1.0</td>\n",
              "      <td>0.0</td>\n",
              "      <td>0.0</td>\n",
              "      <td>0.0</td>\n",
              "      <td>1.0</td>\n",
              "      <td>0.0</td>\n",
              "      <td>0.0</td>\n",
              "      <td>11.500</td>\n",
              "      <td>0.014884</td>\n",
              "      <td>174.5080</td>\n",
              "      <td>1999.0</td>\n",
              "    </tr>\n",
              "    <tr>\n",
              "      <th>5929</th>\n",
              "      <td>0.0</td>\n",
              "      <td>0.0</td>\n",
              "      <td>0.0</td>\n",
              "      <td>0.0</td>\n",
              "      <td>0.0</td>\n",
              "      <td>0.0</td>\n",
              "      <td>0.0</td>\n",
              "      <td>0.0</td>\n",
              "      <td>0.0</td>\n",
              "      <td>0.0</td>\n",
              "      <td>1.0</td>\n",
              "      <td>0.0</td>\n",
              "      <td>0.0</td>\n",
              "      <td>0.0</td>\n",
              "      <td>0.0</td>\n",
              "      <td>0.0</td>\n",
              "      <td>0.0</td>\n",
              "      <td>0.0</td>\n",
              "      <td>0.0</td>\n",
              "      <td>0.0</td>\n",
              "      <td>0.0</td>\n",
              "      <td>0.0</td>\n",
              "      <td>0.0</td>\n",
              "      <td>0.0</td>\n",
              "      <td>1.0</td>\n",
              "      <td>0.0</td>\n",
              "      <td>0.0</td>\n",
              "      <td>0.0</td>\n",
              "      <td>1.0</td>\n",
              "      <td>0.0</td>\n",
              "      <td>0.0</td>\n",
              "      <td>0.0</td>\n",
              "      <td>1.0</td>\n",
              "      <td>0.0</td>\n",
              "      <td>0.0</td>\n",
              "      <td>1.0</td>\n",
              "      <td>0.0</td>\n",
              "      <td>0.0</td>\n",
              "      <td>5.110</td>\n",
              "      <td>0.034945</td>\n",
              "      <td>161.1210</td>\n",
              "      <td>2002.0</td>\n",
              "    </tr>\n",
              "    <tr>\n",
              "      <th>4220</th>\n",
              "      <td>1.0</td>\n",
              "      <td>0.0</td>\n",
              "      <td>1.0</td>\n",
              "      <td>0.0</td>\n",
              "      <td>0.0</td>\n",
              "      <td>0.0</td>\n",
              "      <td>0.0</td>\n",
              "      <td>0.0</td>\n",
              "      <td>0.0</td>\n",
              "      <td>0.0</td>\n",
              "      <td>0.0</td>\n",
              "      <td>0.0</td>\n",
              "      <td>0.0</td>\n",
              "      <td>0.0</td>\n",
              "      <td>0.0</td>\n",
              "      <td>0.0</td>\n",
              "      <td>0.0</td>\n",
              "      <td>0.0</td>\n",
              "      <td>0.0</td>\n",
              "      <td>1.0</td>\n",
              "      <td>0.0</td>\n",
              "      <td>0.0</td>\n",
              "      <td>0.0</td>\n",
              "      <td>0.0</td>\n",
              "      <td>0.0</td>\n",
              "      <td>0.0</td>\n",
              "      <td>0.0</td>\n",
              "      <td>0.0</td>\n",
              "      <td>1.0</td>\n",
              "      <td>0.0</td>\n",
              "      <td>0.0</td>\n",
              "      <td>0.0</td>\n",
              "      <td>1.0</td>\n",
              "      <td>0.0</td>\n",
              "      <td>0.0</td>\n",
              "      <td>1.0</td>\n",
              "      <td>0.0</td>\n",
              "      <td>0.0</td>\n",
              "      <td>6.550</td>\n",
              "      <td>0.034800</td>\n",
              "      <td>157.5288</td>\n",
              "      <td>2007.0</td>\n",
              "    </tr>\n",
              "    <tr>\n",
              "      <th>6682</th>\n",
              "      <td>0.0</td>\n",
              "      <td>0.0</td>\n",
              "      <td>0.0</td>\n",
              "      <td>0.0</td>\n",
              "      <td>0.0</td>\n",
              "      <td>0.0</td>\n",
              "      <td>0.0</td>\n",
              "      <td>0.0</td>\n",
              "      <td>0.0</td>\n",
              "      <td>0.0</td>\n",
              "      <td>0.0</td>\n",
              "      <td>0.0</td>\n",
              "      <td>0.0</td>\n",
              "      <td>0.0</td>\n",
              "      <td>0.0</td>\n",
              "      <td>1.0</td>\n",
              "      <td>0.0</td>\n",
              "      <td>0.0</td>\n",
              "      <td>0.0</td>\n",
              "      <td>0.0</td>\n",
              "      <td>1.0</td>\n",
              "      <td>0.0</td>\n",
              "      <td>0.0</td>\n",
              "      <td>0.0</td>\n",
              "      <td>0.0</td>\n",
              "      <td>0.0</td>\n",
              "      <td>0.0</td>\n",
              "      <td>0.0</td>\n",
              "      <td>0.0</td>\n",
              "      <td>1.0</td>\n",
              "      <td>0.0</td>\n",
              "      <td>0.0</td>\n",
              "      <td>0.0</td>\n",
              "      <td>1.0</td>\n",
              "      <td>0.0</td>\n",
              "      <td>0.0</td>\n",
              "      <td>1.0</td>\n",
              "      <td>0.0</td>\n",
              "      <td>7.810</td>\n",
              "      <td>0.067730</td>\n",
              "      <td>242.6486</td>\n",
              "      <td>2009.0</td>\n",
              "    </tr>\n",
              "  </tbody>\n",
              "</table>\n",
              "<p>6392 rows × 42 columns</p>\n",
              "</div>\n",
              "      <button class=\"colab-df-convert\" onclick=\"convertToInteractive('df-8eef3df6-eaf3-480d-a2ce-b712db42dd2d')\"\n",
              "              title=\"Convert this dataframe to an interactive table.\"\n",
              "              style=\"display:none;\">\n",
              "\n",
              "  <svg xmlns=\"http://www.w3.org/2000/svg\" height=\"24px\"viewBox=\"0 0 24 24\"\n",
              "       width=\"24px\">\n",
              "    <path d=\"M0 0h24v24H0V0z\" fill=\"none\"/>\n",
              "    <path d=\"M18.56 5.44l.94 2.06.94-2.06 2.06-.94-2.06-.94-.94-2.06-.94 2.06-2.06.94zm-11 1L8.5 8.5l.94-2.06 2.06-.94-2.06-.94L8.5 2.5l-.94 2.06-2.06.94zm10 10l.94 2.06.94-2.06 2.06-.94-2.06-.94-.94-2.06-.94 2.06-2.06.94z\"/><path d=\"M17.41 7.96l-1.37-1.37c-.4-.4-.92-.59-1.43-.59-.52 0-1.04.2-1.43.59L10.3 9.45l-7.72 7.72c-.78.78-.78 2.05 0 2.83L4 21.41c.39.39.9.59 1.41.59.51 0 1.02-.2 1.41-.59l7.78-7.78 2.81-2.81c.8-.78.8-2.07 0-2.86zM5.41 20L4 18.59l7.72-7.72 1.47 1.35L5.41 20z\"/>\n",
              "  </svg>\n",
              "      </button>\n",
              "\n",
              "\n",
              "\n",
              "    <div id=\"df-744e6bdb-19e6-45cf-b093-4e790e7ecc82\">\n",
              "      <button class=\"colab-df-quickchart\" onclick=\"quickchart('df-744e6bdb-19e6-45cf-b093-4e790e7ecc82')\"\n",
              "              title=\"Suggest charts.\"\n",
              "              style=\"display:none;\">\n",
              "\n",
              "<svg xmlns=\"http://www.w3.org/2000/svg\" height=\"24px\"viewBox=\"0 0 24 24\"\n",
              "     width=\"24px\">\n",
              "    <g>\n",
              "        <path d=\"M19 3H5c-1.1 0-2 .9-2 2v14c0 1.1.9 2 2 2h14c1.1 0 2-.9 2-2V5c0-1.1-.9-2-2-2zM9 17H7v-7h2v7zm4 0h-2V7h2v10zm4 0h-2v-4h2v4z\"/>\n",
              "    </g>\n",
              "</svg>\n",
              "      </button>\n",
              "    </div>\n",
              "\n",
              "<style>\n",
              "  .colab-df-quickchart {\n",
              "    background-color: #E8F0FE;\n",
              "    border: none;\n",
              "    border-radius: 50%;\n",
              "    cursor: pointer;\n",
              "    display: none;\n",
              "    fill: #1967D2;\n",
              "    height: 32px;\n",
              "    padding: 0 0 0 0;\n",
              "    width: 32px;\n",
              "  }\n",
              "\n",
              "  .colab-df-quickchart:hover {\n",
              "    background-color: #E2EBFA;\n",
              "    box-shadow: 0px 1px 2px rgba(60, 64, 67, 0.3), 0px 1px 3px 1px rgba(60, 64, 67, 0.15);\n",
              "    fill: #174EA6;\n",
              "  }\n",
              "\n",
              "  [theme=dark] .colab-df-quickchart {\n",
              "    background-color: #3B4455;\n",
              "    fill: #D2E3FC;\n",
              "  }\n",
              "\n",
              "  [theme=dark] .colab-df-quickchart:hover {\n",
              "    background-color: #434B5C;\n",
              "    box-shadow: 0px 1px 3px 1px rgba(0, 0, 0, 0.15);\n",
              "    filter: drop-shadow(0px 1px 2px rgba(0, 0, 0, 0.3));\n",
              "    fill: #FFFFFF;\n",
              "  }\n",
              "</style>\n",
              "\n",
              "    <script>\n",
              "      async function quickchart(key) {\n",
              "        const containerElement = document.querySelector('#' + key);\n",
              "        const charts = await google.colab.kernel.invokeFunction(\n",
              "            'suggestCharts', [key], {});\n",
              "      }\n",
              "    </script>\n",
              "\n",
              "      <script>\n",
              "\n",
              "function displayQuickchartButton(domScope) {\n",
              "  let quickchartButtonEl =\n",
              "    domScope.querySelector('#df-744e6bdb-19e6-45cf-b093-4e790e7ecc82 button.colab-df-quickchart');\n",
              "  quickchartButtonEl.style.display =\n",
              "    google.colab.kernel.accessAllowed ? 'block' : 'none';\n",
              "}\n",
              "\n",
              "        displayQuickchartButton(document);\n",
              "      </script>\n",
              "      <style>\n",
              "    .colab-df-container {\n",
              "      display:flex;\n",
              "      flex-wrap:wrap;\n",
              "      gap: 12px;\n",
              "    }\n",
              "\n",
              "    .colab-df-convert {\n",
              "      background-color: #E8F0FE;\n",
              "      border: none;\n",
              "      border-radius: 50%;\n",
              "      cursor: pointer;\n",
              "      display: none;\n",
              "      fill: #1967D2;\n",
              "      height: 32px;\n",
              "      padding: 0 0 0 0;\n",
              "      width: 32px;\n",
              "    }\n",
              "\n",
              "    .colab-df-convert:hover {\n",
              "      background-color: #E2EBFA;\n",
              "      box-shadow: 0px 1px 2px rgba(60, 64, 67, 0.3), 0px 1px 3px 1px rgba(60, 64, 67, 0.15);\n",
              "      fill: #174EA6;\n",
              "    }\n",
              "\n",
              "    [theme=dark] .colab-df-convert {\n",
              "      background-color: #3B4455;\n",
              "      fill: #D2E3FC;\n",
              "    }\n",
              "\n",
              "    [theme=dark] .colab-df-convert:hover {\n",
              "      background-color: #434B5C;\n",
              "      box-shadow: 0px 1px 3px 1px rgba(0, 0, 0, 0.15);\n",
              "      filter: drop-shadow(0px 1px 2px rgba(0, 0, 0, 0.3));\n",
              "      fill: #FFFFFF;\n",
              "    }\n",
              "  </style>\n",
              "\n",
              "      <script>\n",
              "        const buttonEl =\n",
              "          document.querySelector('#df-8eef3df6-eaf3-480d-a2ce-b712db42dd2d button.colab-df-convert');\n",
              "        buttonEl.style.display =\n",
              "          google.colab.kernel.accessAllowed ? 'block' : 'none';\n",
              "\n",
              "        async function convertToInteractive(key) {\n",
              "          const element = document.querySelector('#df-8eef3df6-eaf3-480d-a2ce-b712db42dd2d');\n",
              "          const dataTable =\n",
              "            await google.colab.kernel.invokeFunction('convertToInteractive',\n",
              "                                                     [key], {});\n",
              "          if (!dataTable) return;\n",
              "\n",
              "          const docLinkHtml = 'Like what you see? Visit the ' +\n",
              "            '<a target=\"_blank\" href=https://colab.research.google.com/notebooks/data_table.ipynb>data table notebook</a>'\n",
              "            + ' to learn more about interactive tables.';\n",
              "          element.innerHTML = '';\n",
              "          dataTable['output_type'] = 'display_data';\n",
              "          await google.colab.output.renderOutput(dataTable, element);\n",
              "          const docLink = document.createElement('div');\n",
              "          docLink.innerHTML = docLinkHtml;\n",
              "          element.appendChild(docLink);\n",
              "        }\n",
              "      </script>\n",
              "    </div>\n",
              "  </div>\n"
            ]
          },
          "metadata": {},
          "execution_count": 4
        }
      ]
    },
    {
      "cell_type": "code",
      "source": [
        "print(f\"Training R^2: {rf_reg.score(X_train,y_train):.3f}\")\n",
        "print(f\"Test R^2: {rf_reg.score(X_test, y_test):.3f}\")"
      ],
      "metadata": {
        "colab": {
          "base_uri": "https://localhost:8080/"
        },
        "id": "2Kqnd3WNI0QB",
        "outputId": "29cb16a3-edca-474f-ad9b-f41dacd5eec0"
      },
      "execution_count": 5,
      "outputs": [
        {
          "output_type": "stream",
          "name": "stdout",
          "text": [
            "Training R^2: 0.937\n",
            "Test R^2: 0.561\n"
          ]
        }
      ]
    },
    {
      "cell_type": "markdown",
      "source": [
        "## Apply SHAP"
      ],
      "metadata": {
        "id": "-t80gLnsJLks"
      }
    },
    {
      "cell_type": "code",
      "source": [
        "import shap\n",
        "shap.initjs()"
      ],
      "metadata": {
        "colab": {
          "base_uri": "https://localhost:8080/",
          "height": 321
        },
        "id": "5UUaau7uI2iO",
        "outputId": "954b982a-5dda-4cd2-feb9-547583cbc823"
      },
      "execution_count": 6,
      "outputs": [
        {
          "output_type": "error",
          "ename": "ModuleNotFoundError",
          "evalue": "ignored",
          "traceback": [
            "\u001b[0;31m---------------------------------------------------------------------------\u001b[0m",
            "\u001b[0;31mModuleNotFoundError\u001b[0m                       Traceback (most recent call last)",
            "\u001b[0;32m<ipython-input-6-57047d62e0cd>\u001b[0m in \u001b[0;36m<cell line: 1>\u001b[0;34m()\u001b[0m\n\u001b[0;32m----> 1\u001b[0;31m \u001b[0;32mimport\u001b[0m \u001b[0mshap\u001b[0m\u001b[0;34m\u001b[0m\u001b[0;34m\u001b[0m\u001b[0m\n\u001b[0m\u001b[1;32m      2\u001b[0m \u001b[0mshap\u001b[0m\u001b[0;34m.\u001b[0m\u001b[0minitjs\u001b[0m\u001b[0;34m(\u001b[0m\u001b[0;34m)\u001b[0m\u001b[0;34m\u001b[0m\u001b[0;34m\u001b[0m\u001b[0m\n",
            "\u001b[0;31mModuleNotFoundError\u001b[0m: No module named 'shap'",
            "",
            "\u001b[0;31m---------------------------------------------------------------------------\u001b[0;32m\nNOTE: If your import is failing due to a missing package, you can\nmanually install dependencies using either !pip or !apt.\n\nTo view examples of installing some common dependencies, click the\n\"Open Examples\" button below.\n\u001b[0;31m---------------------------------------------------------------------------\u001b[0m\n"
          ],
          "errorDetails": {
            "actions": [
              {
                "action": "open_url",
                "actionText": "Open Examples",
                "url": "/notebooks/snippets/importing_libraries.ipynb"
              }
            ]
          }
        }
      ]
    },
    {
      "cell_type": "markdown",
      "source": [
        "### X_shap, y_shap Variables"
      ],
      "metadata": {
        "id": "dcpV5OmPJR_9"
      }
    },
    {
      "cell_type": "code",
      "source": [
        "X_shap = shap.sample(X_train, nsamples=400, random_state=321)\n",
        "X_shap"
      ],
      "metadata": {
        "id": "VFISaPHbJUL4"
      },
      "execution_count": null,
      "outputs": []
    },
    {
      "cell_type": "code",
      "source": [
        "y_shap = y_train.loc[X_shap.index]\n",
        "y_shap"
      ],
      "metadata": {
        "id": "NQaR3iWKJWsf"
      },
      "execution_count": null,
      "outputs": []
    },
    {
      "cell_type": "markdown",
      "source": [
        "## Model Explainer"
      ],
      "metadata": {
        "id": "xhfx00YeJYLw"
      }
    },
    {
      "cell_type": "code",
      "source": [
        "explainer = shap.Explainer(rf_reg)\n",
        "explainer"
      ],
      "metadata": {
        "id": "JYQncjpWJZZo"
      },
      "execution_count": null,
      "outputs": []
    },
    {
      "cell_type": "markdown",
      "source": [
        "## SHAP Values"
      ],
      "metadata": {
        "id": "kiEAPc-yJcsz"
      }
    },
    {
      "cell_type": "code",
      "source": [
        "shap_values = explainer(X_shap,y_shap)\n",
        "shap_values.shape"
      ],
      "metadata": {
        "id": "ot0ur7ZRJeIo"
      },
      "execution_count": null,
      "outputs": []
    },
    {
      "cell_type": "code",
      "source": [
        "X_shap.shape"
      ],
      "metadata": {
        "id": "pS_iPgMsJftY"
      },
      "execution_count": null,
      "outputs": []
    },
    {
      "cell_type": "code",
      "source": [
        "shap_values[0]"
      ],
      "metadata": {
        "id": "EtY9__jBJhN4"
      },
      "execution_count": null,
      "outputs": []
    },
    {
      "cell_type": "markdown",
      "source": [
        "## Summary Bar Plot"
      ],
      "metadata": {
        "id": "9p2PrHhNJkZY"
      }
    },
    {
      "cell_type": "code",
      "source": [
        "fig, ax = plt.subplots()\n",
        "\n",
        "shap.summary_plot(shap_values,X_shap, show=False, plot_type='bar')\n",
        "\n",
        "ax.set_title('Summary Bar Plot - Affect on Sales')\n",
        "x_label = ax.get_xlabel()\n",
        "ax.set_xlabel(x_label, fontsize=10)\n",
        "plt.tight_layout();\n",
        "\n",
        "fig.savefig('Data/summary_plot_bar_rf_reg.png', dpi=70, bbox_inches='tight')"
      ],
      "metadata": {
        "id": "s1Y7-TvuJlZi"
      },
      "execution_count": null,
      "outputs": []
    },
    {
      "cell_type": "markdown",
      "source": [
        "### Summary Bar Plot Comparison\n",
        "\n",
        "Default and Permutation Importances have the same top 5 features\n",
        "\n",
        "SHAP Plot Summary differs in that:\n",
        "\n",
        "'Item_Visibility' is ranked lower (5th instead of 3rd)\n",
        "'Outlet_Type_Supermarket Type 3' takes the place of 'Item_Weight' (ranked 4th)\n",
        "'Outlet_Identifier_OUT027' is ranked higher (3rd instead of 5th)"
      ],
      "metadata": {
        "id": "cuBPUJrqJq0y"
      }
    },
    {
      "cell_type": "markdown",
      "source": [
        "## Summary Dot Plot"
      ],
      "metadata": {
        "id": "ZwsX9rmvJ10M"
      }
    },
    {
      "cell_type": "code",
      "source": [
        "fig, ax = plt.subplots()\n",
        "\n",
        "shap.summary_plot(shap_values,X_shap, show=False)\n",
        "\n",
        "ax.set_title('Summary Dot Plot - Affect on Sales');\n",
        "\n",
        "fig.savefig('Data/summary_plot_dot_rf_reg.png', dpi=70, bbox_inches='tight')"
      ],
      "metadata": {
        "id": "_WU4kHzTJ23X"
      },
      "execution_count": null,
      "outputs": []
    },
    {
      "cell_type": "markdown",
      "source": [
        "### Summary Dot Plot Interpretation\n",
        "\n",
        "Interpret Top 3 Features\n",
        "\n",
        "'Item_MRP':\n",
        "\n",
        "As the value of the item's MRP increases (gets redder), the target value ('Item_Outlet_Sales') increases as well (moves right)\n",
        "'Outlet_Type_Grocery_Store' (true/false):\n",
        "\n",
        "Being a Grocery Store (red/true) will decrease (move left) the target value ('Item_Outlet_Sales')\n",
        "Not being a Grocery Store (blue/false) will increase (move right) the target value ('Item_Outlet_Sales')\n",
        "'Outlet_Identifier_OUT027' (true/false):\n",
        "\n",
        "Being Outlet OUT027 (red/true) will increase (move right) the target value ('Item_Outlet_Sales')\n",
        "Not being a Outlet OUT027 (blue/false) will only marginally affect (keep center at 0 or slightly move left) the target value ('Item_Outlet_Sales')"
      ],
      "metadata": {
        "id": "nBj79_yrJ7Cf"
      }
    },
    {
      "cell_type": "markdown",
      "source": [
        "# Local Explanations"
      ],
      "metadata": {
        "id": "s5O99pLps7S9"
      }
    },
    {
      "cell_type": "markdown",
      "source": [
        "### Instantiating Local X_shap/y_shap"
      ],
      "metadata": {
        "id": "huTdydXWs_NW"
      }
    },
    {
      "cell_type": "code",
      "source": [
        "X_shap_local = X_shap.reset_index(drop=True)\n",
        "y_shap_local = y_shap.reset_index(drop=True)"
      ],
      "metadata": {
        "id": "njGk_YNstBZk"
      },
      "execution_count": null,
      "outputs": []
    },
    {
      "cell_type": "markdown",
      "source": [
        "### SHAP Values Local"
      ],
      "metadata": {
        "id": "YpAX2VX0tEXR"
      }
    },
    {
      "cell_type": "code",
      "source": [
        "# Getting the shap values wth the local X_shap\n",
        "shap_values_local = explainer(X_shap_local,y_shap_local)\n",
        "shap_values_local.shape"
      ],
      "metadata": {
        "id": "eZCPpSL3tGPK"
      },
      "execution_count": null,
      "outputs": []
    },
    {
      "cell_type": "markdown",
      "source": [
        "### Predictions"
      ],
      "metadata": {
        "id": "yrzD9hRxtIOh"
      }
    },
    {
      "cell_type": "code",
      "source": [
        "y_pred = rf_reg.predict(X_shap_local)\n",
        "y_pred = pd.Series(y_pred, index=X_shap_local.index, name='Predicted')\n",
        "y_pred"
      ],
      "metadata": {
        "id": "2Tw60d64tLm8"
      },
      "execution_count": null,
      "outputs": []
    },
    {
      "cell_type": "markdown",
      "source": [
        "### Selecting Examples - Based on Max/Min Sales"
      ],
      "metadata": {
        "id": "i85dgV83tPpN"
      }
    },
    {
      "cell_type": "markdown",
      "source": [
        "## Get y_shap_local Indexes"
      ],
      "metadata": {
        "id": "6sLWPi-EtTIr"
      }
    },
    {
      "cell_type": "code",
      "source": [
        "y_shap_local.agg(['min', 'max'])"
      ],
      "metadata": {
        "id": "3YkMRMYqtUL-"
      },
      "execution_count": null,
      "outputs": []
    },
    {
      "cell_type": "code",
      "source": [
        "high_sales = y_shap_local == y_shap_local.max()\n",
        "y_shap_local[high_sales]"
      ],
      "metadata": {
        "id": "AZmF6li2tYjz"
      },
      "execution_count": null,
      "outputs": []
    },
    {
      "cell_type": "code",
      "source": [
        "row_high = y_shap_local[high_sales].idxmax()\n",
        "row_high"
      ],
      "metadata": {
        "id": "aBhLkbCgtaED"
      },
      "execution_count": null,
      "outputs": []
    },
    {
      "cell_type": "code",
      "source": [
        "low_sales = y_shap_local == y_shap_local.min()\n",
        "y_shap_local[low_sales]"
      ],
      "metadata": {
        "id": "1SrOLOV9tbg3"
      },
      "execution_count": null,
      "outputs": []
    },
    {
      "cell_type": "code",
      "source": [
        "row_low = y_shap_local[low_sales].idxmax()\n",
        "row_low"
      ],
      "metadata": {
        "id": "jxQDPhNxtdGX"
      },
      "execution_count": null,
      "outputs": []
    },
    {
      "cell_type": "markdown",
      "source": [
        "## Get X_shap_local Filters"
      ],
      "metadata": {
        "id": "VEdUmVEfte6J"
      }
    },
    {
      "cell_type": "code",
      "source": [
        "filt_high_sales = X_shap_local.iloc[385]\n",
        "filt_high_sales.tail()"
      ],
      "metadata": {
        "id": "X1aScTJBtfw9"
      },
      "execution_count": null,
      "outputs": []
    },
    {
      "cell_type": "code",
      "source": [
        "filt_low_sales = X_shap_local.iloc[178]\n",
        "filt_low_sales.tail()"
      ],
      "metadata": {
        "id": "vy0eih1Ktimw"
      },
      "execution_count": null,
      "outputs": []
    },
    {
      "cell_type": "markdown",
      "source": [
        "## Individual Force Plot"
      ],
      "metadata": {
        "id": "VFYy1G5PtlFi"
      }
    },
    {
      "cell_type": "markdown",
      "source": [
        "### High Sales"
      ],
      "metadata": {
        "id": "pQLs3NJotnhz"
      }
    },
    {
      "cell_type": "code",
      "source": [
        "y_shap_local[high_sales].idxmax()"
      ],
      "metadata": {
        "id": "cluGrNl7tody"
      },
      "execution_count": null,
      "outputs": []
    },
    {
      "cell_type": "code",
      "source": [
        "print(f\"Example of a Store with High Sales:\")\n",
        "print(f\"True Class: Sales = {y_shap_local.iloc[385]}\")\n",
        "print(f\"Predicted Class: Sales = {y_pred.iloc[385]}\")"
      ],
      "metadata": {
        "id": "xeUyedfRtqgs"
      },
      "execution_count": null,
      "outputs": []
    },
    {
      "cell_type": "code",
      "source": [
        "# row_high = 385\n",
        "## Individual forceplot\n",
        "shap.force_plot(explainer.expected_value,\n",
        "                shap_values= shap_values[row_high].values,\n",
        "               features=X_shap.iloc[row_high])"
      ],
      "metadata": {
        "id": "1jQKbjVstsQK"
      },
      "execution_count": null,
      "outputs": []
    },
    {
      "cell_type": "markdown",
      "source": [
        "## Low Sales"
      ],
      "metadata": {
        "id": "vAEav8umtty8"
      }
    },
    {
      "cell_type": "code",
      "source": [
        "print(f\"Example of a Store with Low Sales:\")\n",
        "print(f\"True Class: Sales = {y_shap_local.iloc[178]}\")\n",
        "print(f\"Predicted Class: Sales = {y_pred.iloc[178]}\")"
      ],
      "metadata": {
        "id": "U_zPbX-_twBi"
      },
      "execution_count": null,
      "outputs": []
    },
    {
      "cell_type": "code",
      "source": [
        "# row_low = 178\n",
        "## Individual forceplot\n",
        "shap.force_plot(explainer.expected_value,\n",
        "                shap_values= shap_values[row_low].values,\n",
        "               features=X_shap.iloc[row_low])"
      ],
      "metadata": {
        "id": "2jB-Nqw-t5Cq"
      },
      "execution_count": null,
      "outputs": []
    },
    {
      "cell_type": "markdown",
      "source": [
        "## Lime Tabular Explanation"
      ],
      "metadata": {
        "id": "mHUuOTYet66q"
      }
    },
    {
      "cell_type": "code",
      "source": [
        "lime_explainer =LimeTabularExplainer(\n",
        "    training_data=X_shap_local.values,\n",
        "    feature_names=X_shap_local.columns,\n",
        "    mode='regression'\n",
        ")\n",
        "lime_explainer"
      ],
      "metadata": {
        "id": "UDLg53NFt73K"
      },
      "execution_count": null,
      "outputs": []
    }
  ]
}